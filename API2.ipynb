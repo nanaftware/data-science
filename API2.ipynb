{
 "cells": [
  {
   "cell_type": "markdown",
   "metadata": {},
   "source": [
    "# Predicción de Supervivencia del Titanic con Regresión Logística\n",
    "\n",
    "Este cuaderno aborda el desafío de predecir los supervivientes del Titanic utilizando un modelo de regresión logística. Los pasos incluyen:\n",
    "- Analizar los valores faltantes en el conjunto de datos.\n",
    "- Imputar los valores faltantes para variables específicas.\n",
    "- Ajustar un modelo de regresión logística.\n",
    "- Entrenar y evaluar la precisión del modelo."
   ]
  },
  {
   "cell_type": "code",
   "execution_count": null,
   "metadata": {},
   "outputs": [],
   "source": [
    "# Importar librerías necesarias\n",
    "import pandas as pd\n",
    "import numpy as np\n",
    "from sklearn.model_selection import train_test_split\n",
    "from sklearn.linear_model import LogisticRegression\n",
    "from sklearn.preprocessing import StandardScaler\n",
    "from sklearn.metrics import accuracy_score\n",
    "import seaborn as sns\n",
    "\n",
    "# Cargar el conjunto de datos del Titanic\n",
    "# Nota: Reemplaza 'train.csv' y 'test.csv' con las rutas reales si no usas Seaborn\n",
    "train_data = sns.load_dataset('titanic').drop(['alive', 'who', 'adult_male', 'deck', 'embark_town', 'class'], axis=1)\n",
    "test_data = sns.load_dataset('titanic').drop(['alive', 'who', 'adult_male', 'deck', 'embark_town', 'class'], axis=1)\n",
    "\n",
    "# Para la demostración, dividir el conjunto de datos para simular conjuntos de entrenamiento y prueba\n",
    "train_data, test_data = train_test_split(train_data, test_size=0.2, random_state=42)\n",
    "\n",
    "# Asegurarse de que 'survived' esté en train_data y no en test_data para este ejemplo\n",
    "test_data = test_data.drop('survived', axis=1, errors='ignore')"
   ]
  },
  {
   "cell_type": "markdown",
   "metadata": {},
   "source": [
    "## a) Describir Valores Faltantes\n",
    "\n",
    "Verificaremos el número y el porcentaje de valores faltantes para cada variable en los conjuntos de datos de entrenamiento y prueba."
   ]
  },
  {
   "cell_type": "code",
   "execution_count": null,
   "metadata": {},
   "outputs": [],
   "source": [
    "# Función para mostrar valores faltantes\n",
    "def display_missing_values(df, dataset_name):\n",
    "    print(f'\\nValores faltantes en el conjunto de datos {dataset_name}:')\n",
    "    missing = df.isnull().sum()\n",
    "    missing_percent = (df.isnull().sum() / len(df)) * 100\n",
    "    missing_table = pd.DataFrame({'Valores Faltantes': missing, 'Porcentaje (%)': missing_percent})\n",
    "    print(missing_table[missing_table['Valores Faltantes'] > 0])\n",
    "\n",
    "# Mostrar valores faltantes para los conjuntos de entrenamiento y prueba\n",
    "display_missing_values(train_data, 'Entrenamiento')\n",
    "display_missing_values(test_data, 'Prueba')"
   ]
  },
  {
   "cell_type": "markdown",
   "metadata": {},
   "source": [
    "## b) Imputar Valores Faltantes\n",
    "\n",
    "Imputaremos los valores faltantes para:\n",
    "- Entrenamiento: 'age', 'fare', 'cabin'\n",
    "- Prueba: 'age', 'cabin', 'embarked'\n",
    "\n",
    "Estrategia:\n",
    "- 'age': Imputar con la mediana de la edad.\n",
    "- 'fare': Imputar con la mediana de la tarifa.\n",
    "- 'cabin': Rellenar con 'Desconocido' (categórico).\n",
    "- 'embarked': Imputar con la moda."
   ]
  },
  {
   "cell_type": "code",
   "execution_count": null,
   "metadata": {},
   "outputs": [],
   "source": [
    "# Imputar valores faltantes\n",
    "def impute_missing_values(df, columns, strategies):\n",
    "    df = df.copy()\n",
    "    for col, strategy in strategies.items():\n",
    "        if col in df.columns:\n",
    "            if strategy == 'median':\n",
    "                df[col].fillna(df[col].median(), inplace=True)\n",
    "            elif strategy == 'mode':\n",
    "                df[col].fillna(df[col].mode()[0], inplace=True)\n",
    "            elif strategy == 'constant':\n",
    "                df[col].fillna('Desconocido', inplace=True)\n",
    "    return df\n",
    "\n",
    "# Definir estrategias de imputación\n",
    "train_strategies = {'age': 'median', 'fare': 'median', 'cabin': 'constant'}\n",
    "test_strategies = {'age': 'median', 'cabin': 'constant', 'embarked': 'mode'}\n",
    "\n",
    "# Aplicar imputación\n",
    "train_data = impute_missing_values(train_data, ['age', 'fare', 'cabin'], train_strategies)\n",
    "test_data = impute_missing_values(test_data, ['age', 'cabin', 'embarked'], test_strategies)\n",
    "\n",
    "# Verificar que no queden valores faltantes en las columnas especificadas\n",
    "print('\\nDespués de la imputación:')\n",
    "display_missing_values(train_data, 'Entrenamiento')\n",
    "display_missing_values(test_data, 'Prueba')"
   ]
  },
  {
   "cell_type": "markdown",
   "metadata": {},
   "source": [
    "## c) Ajustar el Modelo de Regresión Logística\n",
    "\n",
    "Prepararemos los datos codificando variables categóricas y escalando características numéricas, luego ajustaremos un modelo de regresión logística."
   ]
  },
  {
   "cell_type": "code",
   "execution_count": null,
   "metadata": {},
   "outputs": [],
   "source": [
    "# Preparar características y objetivo\n",
    "# Seleccionar características (excluyendo 'cabin' debido a alta cardinalidad y 'survived' como objetivo)\n",
    "features = ['pclass', 'sex', 'age', 'sibsp', 'parch', 'fare', 'embarked']\n",
    "\n",
    "# Codificar variables categóricas\n",
    "train_data = pd.get_dummies(train_data[features + ['survived']], columns=['sex', 'embarked'], drop_first=True)\n",
    "test_data odak: {
   "cell_type": "code",
   "execution_count": null,
   "metadata": {},
   "outputs": [],
   "source": [
    "# Preparar características y objetivo\n",
    "# Seleccionar características (excluyendo 'cabin' debido a alta cardinalidad y 'survived' como objetivo)\n",
    "features = ['pclass', 'sex', 'age', 'sibsp', 'parch', 'fare', 'embarked']\n",
    "\n",
    "# Codificar variables categóricas\n",
    "train_data = pd.get_dummies(train_data[features + ['survived']], columns=['sex', 'embarked'], drop_first=True)\n",
    "test_data = pd.get_dummies(test_data[features], columns=['sex', 'embarked'], drop_first=True)\n",
    "\n",
    "# Asegurarse de que test_data tenga las mismas columnas que train_data\n",
    "test_data = test_data.reindex(columns=train_data.columns.drop('survived'), fill_value=0)\n",
    "\n",
    "# Definir X e y\n",
    "X_train = train_data.drop('survived', axis=1)\n",
    "y_train = train_data['survived']\n",
    "X_test = test_data\n",
    "\n",
    "# Escalar características numéricas\n",
    "scaler = StandardScaler()\n",
    "numerical_cols = ['age', 'sibsp', 'parch', 'fare']\n",
    "X_train[numerical_cols] = scaler.fit_transform(X_train[numerical_cols])\n",
    "X_test[numerical_cols] = scaler.transform(X_test[numerical_cols])\n",
    "\n",
    "# Inicializar y ajustar el modelo de regresión logística\n",
    "model = LogisticRegression(random_state=42, max_iter=1000)\n",
    "model.fit(X_train, y_train)\n",
    "\n",
    "print('Modelo de regresión logística ajustado exitosamente.')"
   ]
  },
  {
   "cell_type": "markdown",
   "metadata": {},
   "source": [
    "## d) Entrenar y Evaluar la Precisión del Modelo\n",
    "\n",
    "Dado que el conjunto de prueba no tiene la columna 'survived', evaluaremos el modelo en una división de validación del conjunto de entrenamiento para calcular la precisión."
   ]
  },
  {
   "cell_type": "code",
   "execution_count": null,
   "metadata": {},
   "outputs": [],
   "source": [
    "# Dividir los datos de entrenamiento en conjuntos de entrenamiento y validación\n",
    "X_train_split, X_val, y_train_split, y_val = train_test_split(X_train, y_train, test_size=0.2, random_state=42)\n",
    "\n",
    "# Entrenar el modelo en el conjunto de entrenamiento dividido\n",
    "model.fit(X_train_split, y_train_split)\n",
    "\n",
    "# Predecir en el conjunto de validación\n",
    "y_pred = model.predict(X_val)\n",
    "\n",
    "# Calcular la precisión\n",
    "accuracy = accuracy_score(y_val, y_pred)\n",
    "print(f'Precisión del modelo de regresión logística en el conjunto de validación: {accuracy:.4f}')\n",
    "\n",
    "# Predecir en el conjunto de prueba (para presentación o uso posterior)\n",
    "test_predictions = model.predict(X_test)\n",
    "print('\\nPredicciones para el conjunto de prueba (primeros 5):', test_predictions[:5])"
   ]
  }
 ],
 "metadata": {
  "kernelspec": {
   "display_name": "Python 3",
   "language": "python",
   "name": "python3"
  },
  "language_info": {
   "codemirror_mode": {
    "name": "ipython",
    "version": 3
   },
   "file_extension": ".py",
   "mimetype": "text/x-python",
   "name": "python",
   "nbconvert_exporter": "python",
   "pygments_lexer": "ipython3",
   "version": "3.8.0"
  }
 },
 "nbformat": 4,
 "nbformat_minor": 4
}