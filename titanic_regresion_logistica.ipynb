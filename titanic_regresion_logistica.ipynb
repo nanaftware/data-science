```python
# Importar bibliotecas necesarias
import pandas as pd
import numpy as np
from sklearn.model_selection import train_test_split
from sklearn.linear_model import LogisticRegression
from sklearn.preprocessing import StandardScaler
from sklearn.metrics import accuracy_score

# Cargar los conjuntos de datos del Titanic
train_url = 'https://raw.githubusercontent.com/datasciencedojo/datasets/master/titanic.csv'
test_url = 'https://raw.githubusercontent.com/datasciencedojo/datasets/master/titanic_test.csv'
train_df = pd.read_csv(train_url)
test_df = pd.read_csv(test_url)

# a) Describir la cantidad de valores faltantes en cada variable
print("Valores faltantes en el conjunto de entrenamiento:")
print(train_df.isnull().sum())
print("\nValores faltantes en el conjunto de prueba:")
print(test_df.isnull().sum())

# b) Completar valores faltantes en train (Age, Fare, Cabin) y test (Age, Cabin, Embarked)
# Rellenar Age con la mediana del conjunto de entrenamiento
age_median = train_df['Age'].median()
train_df['Age'].fillna(age_median, inplace=True)
test_df['Age'].fillna(age_median, inplace=True)

# Rellenar Fare en train con la mediana del conjunto de entrenamiento
fare_median = train_df['Fare'].median()
train_df['Fare'].fillna(fare_median, inplace=True)

# Rellenar Cabin con 'Unknown' (Desconocido)
train_df['Cabin'].fillna('Unknown', inplace=True)
test_df['Cabin'].fillna('Unknown', inplace=True)

# Rellenar Embarked en test con la moda del conjunto de entrenamiento
embarked_mode = train_df['Embarked'].mode()[0]
test_df['Embarked'].fillna(embarked_mode, inplace=True)

# Verificar que no queden valores faltantes
print("\nValores faltantes después de la imputación (entrenamiento):")
print(train_df.isnull().sum())
print("\nValores faltantes después de la imputación (prueba):")
print(test_df.isnull().sum())

# Ingeniería de características
# Convertir variables categóricas a numéricas
train_df['Sex'] = train_df['Sex'].map({'male': 0, 'female': 1})
test_df['Sex'] = test_df['Sex'].map({'male': 0, 'female': 1})

# Convertir Embarked a variables dummy
train_df = pd.get_dummies(train_df, columns=['Embarked'], drop_first=True)
test_df = pd.get_dummies(test_df, columns=['Embarked'], drop_first=True)

# Seleccionar características para el modelo
features = ['Pclass', 'Sex', 'Age', 'SibSp', 'Parch', 'Fare', 'Embarked_Q', 'Embarked_S']
X = train_df[features]
y = train_df['Survived']

# Dividir datos de entrenamiento para validación
X_train, X_val, y_train, y_val = train_test_split(X, y, test_size=0.2, random_state=42)

# Escalar características
scaler = StandardScaler()
X_train_scaled = scaler.fit_transform(X_train)
X_val_scaled = scaler.transform(X_val)
X_test_scaled = scaler.transform(test_df[features])

# c) Ajustar el primer modelo de regresión logística
model = LogisticRegression(random_state=42)
model.fit(X_train_scaled, y_train)

# d) Entrenar y determinar la precisión del modelo
# Predecir en el conjunto de validación
y_val_pred = model.predict(X_val_scaled)

# Calcular la precisión
accuracy = accuracy_score(y_val, y_val_pred)
print(f"\nPrecisión del modelo en el conjunto de validación: {accuracy:.4f}")

# Predecir en el conjunto de prueba (para presentación o evaluación adicional)
test_predictions = model.predict(X_test_scaled)

# Guardar predicciones en un archivo CSV
output = pd.DataFrame({'PassengerId': test_df['PassengerId'], 'Survived': test_predictions})
output.to_csv('predicciones_titanic.csv', index=False)
print("\nPredicciones del conjunto de prueba guardadas en 'predicciones_titanic.csv'")
```