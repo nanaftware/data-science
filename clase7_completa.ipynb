{
 "cells": [
  {
   "cell_type": "markdown",
   "metadata": {
    "id": "lnOj9O7jIDV4"
   },
   "source": [
    "`scikit-learn` (o `sklearn`) es una librería que reúne muchas herramientas para realizar Minería de Datos y _Aprendizaje de Máquinas_. Permite hacer clasificación, clustering, entre otras. Además, incluye varios datasets para aprender a usar la librería.\n",
    "\n",
    "En este tutorial vamos a reforzar los conceptos de _aprendizaje supervisado_ y a mostrar cómo usar `sklearn` para entrenar nuestro primer clasificador.\n",
    "\n",
    "Puedes ejecutar cada una de las celdas de código haciendo click en ellas y presionando `Shift + Enter`, o bien haciendo click en el ícono ⏭ que aparece al lado izquierdo de la celda.\n",
    "\n",
    "También puedes editar cualquiera de estas celdas. Las celdas no son independientes. Es decir, sí importa el orden en el que las ejecutes, y cualquier cambio que hagas se reflejará en las celdas que ejecutes después.\n",
    "\n",
    "---\n",
    "\n",
    "Cargamos el Iris Dataset que viene en `sklearn`. El dataset incluye atributos de 3 especies de flores."
   ]
  },
  {
   "cell_type": "code",
   "execution_count": null,
   "metadata": {
    "colab": {
     "base_uri": "https://localhost:8080/"
    },
    "id": "pGxdjGYCIDV8",
    "outputId": "ec01724a-edfc-4fc3-9077-88d1d77a3e48",
    "scrolled": true
   },
   "outputs": [],
   "source": [
    "from sklearn.datasets import load_iris\n",
    "\n",
    "iris = load_iris()\n",
    "\n",
    "print(\"Atributos:\", iris.feature_names)\n",
    "print()\n",
    "print(\"5 primeras filas:\")\n",
    "print(iris.data[0:5])"
   ]
  },
  {
   "cell_type": "markdown",
   "metadata": {
    "id": "G0mj6xEhIDV-"
   },
   "source": [
    "Los atributos del dataset son el largo y el ancho del pétalo y sépalo de cada flor.\n",
    "\n",
    "<img src=\"https://sebastianraschka.com/images/blog/2014/intro_supervised_learning/iris_petal_sepal_1.png\" alt=\"\" style=\"width: 1000px;\"/>\n",
    "\n",
    "\n",
    "Las están dadas por el campo `target`, y los distintos tipos de `target` en el campo `target_names`:"
   ]
  },
  {
   "cell_type": "code",
   "execution_count": null,
   "metadata": {
    "colab": {
     "base_uri": "https://localhost:8080/"
    },
    "id": "S6J2057EIDV-",
    "outputId": "422f31d9-9694-49ef-d673-d53c721d165d"
   },
   "outputs": [],
   "source": [
    "print(\"target_names:\", iris.target_names)\n",
    "print()\n",
    "print(\"Valores de la columna\")\n",
    "print(iris.target)\n",
    "\n",
    "# vemos que hay 150 observaciones, 50 de cada una de las clases."
   ]
  },
  {
   "cell_type": "markdown",
   "metadata": {
    "id": "6Nag1S_wIDV_"
   },
   "source": [
    "Vemos que los primeros valores de la columna `target` son ceros en vez del nombre de la especie. Lo que se usa comúnmente es _mapear_ (asignar) números a variables categóricas. En este caso, el 0 corresponde a la primera especie en  `target_names`, es decir, a _iris setosa_. El 1 corresponde a _iris versicolor_ y el 2 a _iris virginica_.\n",
    "\n",
    "Los datos que vienen en `sklearn` ya están listos para ser usados con los métodos de la librería. Si hubiésemos recibido los datos como una tabla, éstos se verían más o menos así:\n",
    "\n",
    "| sepal length (cm) | sepal width (cm) | petal length (cm) | petal width (cm) | target          |\n",
    "|-------------------|------------------|-------------------|------------------|-----------------|\n",
    "| 5.1               | 3.5              | 1.4               | 0.2              | iris-setosa     |\n",
    "| 4.9               | 3                | 1.4               | 0.2              | iris-setosa     |\n",
    "| ...               | ...              | ...               | ...              | ...             |\n",
    "| 5                 | 2                | 3.5               | 1                | iris-versicolor |\n",
    "| 5.9               | 3                | 5.1               | 1.8              | iris-virginica  |\n",
    "\n",
    "\n",
    "Una tarea que se nos podría plantear sería determinar, dados los atributos de una flor, cuál es la especie a la que corresponde. Por ejemplo, ¿a cuál especie corresponde la flor con los siguientes atributos?\n",
    "\n",
    "| sepal length (cm) | sepal width (cm) | petal length (cm) | petal width (cm) | target |\n",
    "|-------------------|------------------|-------------------|------------------|--------|\n",
    "| 4.8               | 3                | 1.4               | 0.1              | ???    |"
   ]
  },
  {
   "cell_type": "markdown",
   "metadata": {
    "id": "7A15N04JIDV_"
   },
   "source": [
    "## Nuestro primer clasificador\n",
    "\n",
    "Vamos a usar un _árbol de decisión_ como nuestro primer clasificador. Un árbol de decisión para este problema puede verse como el de la siguiente imagen:\n",
    "\n",
    "![](https://sebastianraschka.com/images/blog/2014/intro_supervised_learning/decision_tree_1.png)\n",
    "\n",
    "Nota que podemos mirar cualquiera de los atributos primero, o no usar algún otro atributo, por ejemplo:\n",
    "\n",
    "![](https://www.ibm.com/developerworks/library/ba-predictive-analytics2/fig06.gif)\n",
    "\n",
    "En el último caso no usamos el `petal width` como atributo para el árbol. Y así, podemos tener muchos árboles distintos.\n",
    "\n",
    "El proceso de _entrenar un clasificador_ corresponde al proceso de —en este caso— encontrar las reglas del árbol que _mejor se adapten a nuestros datos_. Llamaremos al árbol resultante el _**modelo**_."
   ]
  },
  {
   "cell_type": "code",
   "execution_count": null,
   "metadata": {
    "colab": {
     "base_uri": "https://localhost:8080/",
     "height": 74
    },
    "id": "M804gPaxIDV_",
    "outputId": "f1efa922-68fa-4313-d9da-883a452a9873"
   },
   "outputs": [],
   "source": [
    "from sklearn.tree import DecisionTreeClassifier\n",
    "\n",
    "# creamos un nuevo clasificador de árbol de decisión\n",
    "clf = DecisionTreeClassifier()\n",
    "\n",
    "# entrenamos el árbol, entregándole los datos de entrenamiento\n",
    "clf.fit(iris.data, iris.target)\n",
    "\n",
    "# el resultado de clf.fit() es el objeto DecisionTreeClassifier con los parámetros que usó para entrenar"
   ]
  },
  {
   "cell_type": "markdown",
   "metadata": {
    "id": "EReMTitzIDWA"
   },
   "source": [
    "Podemos visualizar el árbol generado usando graphviz"
   ]
  },
  {
   "cell_type": "code",
   "execution_count": null,
   "metadata": {
    "colab": {
     "base_uri": "https://localhost:8080/",
     "height": 916
    },
    "id": "415eOADsIDWA",
    "outputId": "2888c4f2-584a-44dd-ce90-0b30961f132b"
   },
   "outputs": [],
   "source": [
    "from sklearn import tree\n",
    "import graphviz\n",
    "\n",
    "gv = tree.export_graphviz(clf,\n",
    "                          out_file=None,\n",
    "                          feature_names=iris.feature_names,\n",
    "                          class_names=iris.target_names)\n",
    "graphviz.Source(gv)"
   ]
  },
  {
   "cell_type": "markdown",
   "metadata": {
    "id": "_rdyfys3IDWA"
   },
   "source": [
    "## ¿Cómo evaluamos nuestro modelo?\n",
    "\n",
    "¿Cómo sabemos qué tan bien le fue? Es decir, ¿logró _aprender_ desde los datos cuáles eran las mejores reglas?\n",
    "\n",
    "Una forma de ver esto es usando el modelo para clasificar nuevas instancias de los datos.\n",
    "\n",
    "Sin embargo, no tenemos _nuevas_ instancias, ya que entrenamos el clasificador con _todos_ los datos disponibles. Si evaluamos nuestro clasificador con los _datos de entrenamiento_ (es decir, los datos que usamos para entrenar el clasificador y generar un modelo), vamos a tener resultados **sobre-optimistas**, ya que el clasificador usó esos mismos datos para entrenar. Es como si fueras a dar una prueba y usaras la misma prueba con las respuestas para estudiar.\n",
    "\n",
    "Esto también nos entrega una pista sobre qué significa que un clasificador _aprenda_ de los datos. Para que un modelo se considere _bueno_, no basta con que clasifique correctamente los datos que usó para entrenar, sino que debe clasificar correctamente datos que _no ha visto antes_. Esto es a lo que se llama la capacidad de _generalización_ del modelo.\n",
    "\n",
    "Vamos a definir un par de conceptos antes de continuar:\n",
    "\n",
    "- El **conjunto de datos de entrenamiento**, o **training set**, es el conjunto de datos que le damos al clasificador para que pueda encontrar las reglas o parámetros óptimos que le permitan predecir la clase de estos datos.\n",
    "\n",
    "- El **conjunto de datos de prueba**, o **test set**, es el conjunto de datos sobre el cual vamos a evaluar el rendimiento de nuestro modelo. **Estos datos se eligen antes de cualquier modificación o limpieza del dataset, y sólo se usan para evaluar el modelo entrenado**.\n",
    "\n",
    "(Una vez seguros de que nuestro modelo funciona bien y queremos usarlo \"en producción\", podemos entrenar con todos los datos disponibles. No antes)\n",
    "\n",
    "El último punto es muy importante. Si por ejemplo, normalizamos los datos primero, y _después_ separamos en training y test sets, estaremos \"contaminando\" nuestros datos de entrenamiento, dándoles información del test set y en cierta forma \"haciendo trampa\", afectando la capacidad de generalización del modelo resultante.\n",
    "\n",
    "\n",
    "### Holdout\n",
    "\n",
    "Ahora vamos a tomar una muestra de los datos y separarlos en training set y test set, respectivamente. ¿Cómo determinamos esta muestra?"
   ]
  },
  {
   "cell_type": "code",
   "execution_count": null,
   "metadata": {
    "id": "gux2aAPDIDWA"
   },
   "outputs": [],
   "source": [
    "from sklearn.model_selection import train_test_split\n",
    "\n",
    "X = iris.data\n",
    "y = iris.target\n",
    "\n",
    "# train_test_split separa X e y en dos conjuntos, train y test\n",
    "# como hace un muestreo aleatorio, el resultado depende de algún proceso al azar\n",
    "# el parámetro random_state fija la _semilla aleatoria_ de forma que el resultado siempre será el mismo\n",
    "# esto es muy útil cuando uno quiere poder reproducir los resultados\n",
    "# (el uso de 12 como la semilla es totalmente arbitrario)\n",
    "# a todos ustedes les dará exactamente la misma partición de los datos\n",
    "\n",
    "X_train, X_test, y_train, y_test = train_test_split(X, y, test_size=0.33, random_state=12)"
   ]
  },
  {
   "cell_type": "markdown",
   "metadata": {
    "id": "vgc5ZwBTIDWB"
   },
   "source": [
    "Ahora podemos entrenar sólo con el training set:"
   ]
  },
  {
   "cell_type": "code",
   "execution_count": null,
   "metadata": {
    "colab": {
     "base_uri": "https://localhost:8080/",
     "height": 74
    },
    "id": "e93RbvQ2IDWB",
    "outputId": "654dfd56-e35e-428e-96f0-5b0e4de0c5da"
   },
   "outputs": [],
   "source": [
    "clf = DecisionTreeClassifier(random_state=12)\n",
    "clf.fit(X_train, y_train)"
   ]
  },
  {
   "cell_type": "markdown",
   "metadata": {
    "id": "_tVhmiOvIDWB"
   },
   "source": [
    "Para evaluar, predecimos usando una de las observaciones en el test set y contrastamos el resultado con la respuesta correcta:"
   ]
  },
  {
   "cell_type": "code",
   "execution_count": null,
   "metadata": {
    "colab": {
     "base_uri": "https://localhost:8080/"
    },
    "id": "ol6IGPzrIDWB",
    "outputId": "c079966f-917d-4967-feb7-e80bbf0e2187"
   },
   "outputs": [],
   "source": [
    "x_ = X_test[0]\n",
    "y_ = y_test[0]\n",
    "\n",
    "# la clase es iris-versicolor\n",
    "print(\"data:\", x_)\n",
    "print(\"clase:\", y_)\n",
    "\n",
    "# [x] es una lista que contiene como elemento a x\n",
    "# predict recibe una lista de inputs y retorna un arreglo de enteros,\n",
    "# cada entero es la clase que predice para cada elemento en la lista input\n",
    "clf.predict([x_])"
   ]
  },
  {
   "cell_type": "markdown",
   "metadata": {
    "id": "tT5XOAAXIDWC"
   },
   "source": [
    "Vemos que acertó en este caso. En `sklearn` hay métodos que automatizan este proceso."
   ]
  },
  {
   "cell_type": "code",
   "execution_count": null,
   "metadata": {
    "colab": {
     "base_uri": "https://localhost:8080/"
    },
    "id": "UcgVX2MHIDWC",
    "outputId": "2c3af29c-1b75-44ba-f1b7-29385ec6547b"
   },
   "outputs": [],
   "source": [
    "from sklearn.metrics import accuracy_score\n",
    "\n",
    "y_pred = clf.predict(X_test)\n",
    "\n",
    "print(accuracy_score(y_test, y_pred))"
   ]
  },
  {
   "cell_type": "code",
   "execution_count": null,
   "metadata": {
    "colab": {
     "base_uri": "https://localhost:8080/",
     "height": 213
    },
    "id": "Gt67ZjiaJjJo",
    "outputId": "2d631ea8-6905-4427-9352-595608520274"
   },
   "outputs": [],
   "source": [
    "from sklearn.linear_model import LogisticRegression\n",
    "reg = LogisticRegression(random_state=12)\n",
    "reg.fit(X_train, y_train)"
   ]
  },
  {
   "cell_type": "code",
   "execution_count": null,
   "metadata": {
    "colab": {
     "base_uri": "https://localhost:8080/"
    },
    "id": "40CQZFBnJ1hg",
    "outputId": "05c925f3-13ce-406f-c9c6-c2110e6bc2c3"
   },
   "outputs": [],
   "source": [
    "x_ = X_test[0]\n",
    "y_ = y_test[0]\n",
    "\n",
    "# la clase es iris-versicolor\n",
    "print(\"data:\", x_)\n",
    "print(\"clase:\", y_)\n",
    "\n",
    "# [x] es una lista que contiene como elemento a x\n",
    "# predict recibe una lista de inputs y retorna un arreglo de enteros,\n",
    "# cada entero es la clase que predice para cada elemento en la lista input\n",
    "reg.predict([x_])"
   ]
  },
  {
   "cell_type": "code",
   "execution_count": null,
   "metadata": {
    "colab": {
     "base_uri": "https://localhost:8080/"
    },
    "id": "BCPzINYmKE2A",
    "outputId": "1b685ba8-2b5b-4ada-de51-f43fb16c8988"
   },
   "outputs": [],
   "source": [
    "y_reg_pred = reg.predict(X_test)\n",
    "\n",
    "print(accuracy_score(y_test, y_reg_pred))"
   ]
  },
  {
   "cell_type": "markdown",
   "metadata": {
    "id": "gyiFKbdxIDWC"
   },
   "source": [
    "Vemos que el _accuracy_ es de un 96% en el árbol de decisión y un 98% en la regresión logística. Esto significa que clasificó correctamente el 96% y 98% respectivamente de los datos en `X_test`.\n",
    "\n",
    "Surgen dos preguntas a partir de esto:\n",
    "\n",
    "1. ¿Tuvimos suerte? Es decir, si hubiésemos elegido otra partición train/test, ¿obtendríamos resultados diferentes?\n",
    "2. ¿Qué pasa si las clases están desbalanceadas? ¿Cómo afecta al accuracy si tenemos, por ejemplo, 99% de una clase y 1% de otra?"
   ]
  },
  {
   "cell_type": "markdown",
   "metadata": {
    "id": "EsJOswfkIDWC"
   },
   "source": [
    "### Cross-Validation\n",
    "\n",
    "_¿Tuvimos suerte? Es decir, si hubiésemos elegido otra partición train/test, ¿obtendríamos resultados diferentes?_\n",
    "\n",
    "Cross-validation nos ayuda a disminuir el efecto del azar (pregunta 1). Por ejemplo, observa qué pasa si cambiamos la semilla aleatoria:"
   ]
  },
  {
   "cell_type": "code",
   "execution_count": null,
   "metadata": {
    "colab": {
     "base_uri": "https://localhost:8080/"
    },
    "id": "cfPUNujjIDWC",
    "outputId": "1bd7e6a4-6c62-4f82-d6a4-d77d0d75d283"
   },
   "outputs": [],
   "source": [
    "X_train, X_test, y_train, y_test = train_test_split(X, y, test_size=0.33, random_state=37)\n",
    "\n",
    "clf = DecisionTreeClassifier(random_state=37)\n",
    "clf.fit(X_train, y_train)\n",
    "y_pred = clf.predict(X_test)\n",
    "\n",
    "print(accuracy_score(y_test, y_pred))"
   ]
  },
  {
   "cell_type": "code",
   "execution_count": null,
   "metadata": {
    "colab": {
     "base_uri": "https://localhost:8080/"
    },
    "id": "Gp6keT0iydTi",
    "outputId": "1da9b7b2-22a3-43e9-96d3-63e07386847c"
   },
   "outputs": [],
   "source": [
    "reg = LogisticRegression(random_state=37)\n",
    "reg.fit(X_train, y_train)\n",
    "y_reg_pred = reg.predict(X_test)\n",
    "\n",
    "print(accuracy_score(y_test, y_reg_pred))"
   ]
  },
  {
   "cell_type": "markdown",
   "metadata": {
    "id": "GnsPS6rDIDWD"
   },
   "source": [
    "Para disminuir el efecto, _cross-validation_ particiona los datos en $k$ partes iguales, entrena con $k-1$ partes, evalúa en la $k$-ésima, guarda el resultado, y vuelve a repetir el proceso con otras $k-1$ partes hasta haber recorrido todas las partes. Este proceso se llama $k$-fold cross-validation.\n",
    "\n",
    "Observa que esto implica que el clasificador se entrenará $k$ veces, lo cual puede ser costoso dependiendo del clasificador y de la cantidad de datos.\n",
    "\n",
    "![](https://upload.wikimedia.org/wikipedia/commons/1/1c/K-fold_cross_validation_EN.jpg)"
   ]
  },
  {
   "cell_type": "code",
   "execution_count": null,
   "metadata": {
    "colab": {
     "base_uri": "https://localhost:8080/"
    },
    "id": "vq9_23SuIDWD",
    "outputId": "630e55f0-313b-4e62-c3e8-92df31faba09"
   },
   "outputs": [],
   "source": [
    "from sklearn.model_selection import KFold\n",
    "\n",
    "# 10-fold cv\n",
    "kf = KFold(n_splits=10)\n",
    "\n",
    "accuracies = []\n",
    "\n",
    "for train_index, test_index in kf.split(X):\n",
    "    print(\"TRAIN:\", train_index, \"TEST:\", test_index, sep='\\n')\n",
    "    print()\n",
    "\n",
    "    X_train = X[train_index]\n",
    "    X_test = X[test_index]\n",
    "\n",
    "    y_train = y[train_index]\n",
    "    y_test = y[test_index]\n",
    "\n",
    "    clf = DecisionTreeClassifier(random_state=12)\n",
    "    clf.fit(X_train, y_train)\n",
    "\n",
    "    y_pred = clf.predict(X_test)\n",
    "\n",
    "    accuracy = accuracy_score(y_test, y_pred)\n",
    "    accuracies.append(accuracy)\n",
    "\n",
    "print()\n",
    "print(accuracies)\n",
    "print(sum(accuracies) / len(accuracies))"
   ]
  },
  {
   "cell_type": "code",
   "execution_count": null,
   "metadata": {
    "colab": {
     "base_uri": "https://localhost:8080/"
    },
    "id": "04bHHsvWyrOC",
    "outputId": "7b94866e-8562-4178-e628-398cae612845"
   },
   "outputs": [],
   "source": [
    "from sklearn.model_selection import KFold\n",
    "\n",
    "# 10-fold cv\n",
    "kf = KFold(n_splits=10)\n",
    "\n",
    "accuracies = []\n",
    "\n",
    "for train_index, test_index in kf.split(X):\n",
    "    print(\"TRAIN:\", train_index, \"TEST:\", test_index, sep='\\n')\n",
    "    print()\n",
    "\n",
    "    X_train = X[train_index]\n",
    "    X_test = X[test_index]\n",
    "\n",
    "    y_train = y[train_index]\n",
    "    y_test = y[test_index]\n",
    "\n",
    "    reg = LogisticRegression(random_state=12)\n",
    "    reg.fit(X_train, y_train)\n",
    "\n",
    "    y_pred = reg.predict(X_test)\n",
    "\n",
    "    accuracy = accuracy_score(y_test, y_pred)\n",
    "    accuracies.append(accuracy)\n",
    "\n",
    "print()\n",
    "print(accuracies)\n",
    "print(sum(accuracies) / len(accuracies))"
   ]
  },
  {
   "cell_type": "markdown",
   "metadata": {
    "id": "TS56KtweIDWD"
   },
   "source": [
    "Vemos que el promedio de los accuracies es $0.94$, más bajo que el $0.96$ y $0.98$ que obtuvimos antes."
   ]
  },
  {
   "cell_type": "markdown",
   "metadata": {
    "id": "ypeiXeSaIDWD"
   },
   "source": [
    "Un caso extremo de cross-validation es cuando $k = N$, el número de filas en el dataset. Esto significa que vamos a entrenar $N$ veces el clasificador, y cada vez lo vamos a evaluar mirando _un sólo dato a la vez_. Esta forma de cross-validation se llama _leave one out_ (LOO). LOO es útil cuando tenemos pocos datos para entrenar, por lo que dejar, por ejemplo, el 20% de los datos como testing puede ser considerable."
   ]
  },
  {
   "cell_type": "code",
   "execution_count": null,
   "metadata": {
    "colab": {
     "base_uri": "https://localhost:8080/"
    },
    "id": "58JX8Yh6IDWD",
    "outputId": "9b405f28-2592-4f57-cf32-aad2f997d7ea"
   },
   "outputs": [],
   "source": [
    "# 150-fold cv\n",
    "kf = KFold(n_splits=150)\n",
    "\n",
    "accuracies = []\n",
    "\n",
    "for train_index, test_index in kf.split(X):\n",
    "    X_train = X[train_index]\n",
    "    X_test = X[test_index]\n",
    "\n",
    "    y_train = y[train_index]\n",
    "    y_test = y[test_index]\n",
    "\n",
    "    clf = DecisionTreeClassifier(random_state=12)\n",
    "    clf.fit(X_train, y_train)\n",
    "\n",
    "    y_pred = clf.predict(X_test)\n",
    "\n",
    "    accuracy = accuracy_score(y_test, y_pred)\n",
    "    accuracies.append(accuracy)\n",
    "\n",
    "print(sum(accuracies) / len(accuracies))"
   ]
  },
  {
   "cell_type": "markdown",
   "metadata": {
    "id": "GpaN7--DIDWD"
   },
   "source": [
    "Un problema con `KFold` es que siempre hace las particiones en los mismos lugares. Por ejemplo, observa qué pasa en este caso:"
   ]
  },
  {
   "cell_type": "code",
   "execution_count": null,
   "metadata": {
    "colab": {
     "base_uri": "https://localhost:8080/"
    },
    "id": "LAld9m6hIDWE",
    "outputId": "9b182327-d45f-4903-80a6-42fd33104027"
   },
   "outputs": [],
   "source": [
    "kf = KFold(n_splits=3)\n",
    "\n",
    "accuracies = []\n",
    "\n",
    "for train_index, test_index in kf.split(X):\n",
    "    X_train = X[train_index]\n",
    "    X_test = X[test_index]\n",
    "\n",
    "    y_train = y[train_index]\n",
    "    y_test = y[test_index]\n",
    "\n",
    "    clf = DecisionTreeClassifier(random_state=12)\n",
    "    clf.fit(X_train, y_train)\n",
    "\n",
    "    y_pred = clf.predict(X_test)\n",
    "\n",
    "    accuracy = accuracy_score(y_test, y_pred)\n",
    "    accuracies.append(accuracy)\n",
    "\n",
    "print(sum(accuracies) / len(accuracies))"
   ]
  },
  {
   "cell_type": "code",
   "execution_count": null,
   "metadata": {
    "colab": {
     "base_uri": "https://localhost:8080/"
    },
    "id": "pnKq9JGe0tsF",
    "outputId": "37a48844-5f8e-479f-958f-64699ac177b5"
   },
   "outputs": [],
   "source": [
    "kf = KFold(n_splits=3)\n",
    "\n",
    "accuracies = []\n",
    "\n",
    "for train_index, test_index in kf.split(X):\n",
    "    X_train = X[train_index]\n",
    "    X_test = X[test_index]\n",
    "\n",
    "    y_train = y[train_index]\n",
    "    y_test = y[test_index]\n",
    "\n",
    "    reg = LogisticRegression(random_state=12)\n",
    "    reg.fit(X_train, y_train)\n",
    "\n",
    "    y_pred = reg.predict(X_test)\n",
    "\n",
    "    accuracy = accuracy_score(y_test, y_pred)\n",
    "    accuracies.append(accuracy)\n",
    "\n",
    "print(sum(accuracies) / len(accuracies))"
   ]
  },
  {
   "cell_type": "markdown",
   "metadata": {
    "id": "03QA4KQQIDWE"
   },
   "source": [
    "¿Por qué el accuracy es 0?"
   ]
  },
  {
   "cell_type": "code",
   "execution_count": null,
   "metadata": {
    "colab": {
     "base_uri": "https://localhost:8080/"
    },
    "id": "FvSpWPkPIDWE",
    "outputId": "72b1662f-ae1c-4e08-9032-d81a7b9eafaf"
   },
   "outputs": [],
   "source": [
    "# ejemplo con shuffle=True, es decir mezclar los datos\n",
    "\n",
    "kf = KFold(n_splits=3, shuffle=True, random_state=12)\n",
    "\n",
    "accuracies = []\n",
    "\n",
    "for train_index, test_index in kf.split(X):\n",
    "    X_train = X[train_index]\n",
    "    X_test = X[test_index]\n",
    "\n",
    "    y_train = y[train_index]\n",
    "    y_test = y[test_index]\n",
    "\n",
    "    clf = DecisionTreeClassifier(random_state=12)\n",
    "    clf.fit(X_train, y_train)\n",
    "\n",
    "    y_pred = clf.predict(X_test)\n",
    "\n",
    "    accuracy = accuracy_score(y_test, y_pred)\n",
    "    accuracies.append(accuracy)\n",
    "\n",
    "print(sum(accuracies) / len(accuracies))"
   ]
  },
  {
   "cell_type": "code",
   "execution_count": null,
   "metadata": {
    "colab": {
     "base_uri": "https://localhost:8080/"
    },
    "id": "NX0pdUFf1Ba9",
    "outputId": "25a42b78-1f4f-4f58-c2a8-ce5ce47e88f0"
   },
   "outputs": [],
   "source": [
    "# ejemplo con shuffle=True, es decir mezclar los datos\n",
    "\n",
    "kf = KFold(n_splits=3, shuffle=True, random_state=12)\n",
    "\n",
    "accuracies = []\n",
    "\n",
    "for train_index, test_index in kf.split(X):\n",
    "    X_train = X[train_index]\n",
    "    X_test = X[test_index]\n",
    "\n",
    "    y_train = y[train_index]\n",
    "    y_test = y[test_index]\n",
    "\n",
    "    reg = LogisticRegression(random_state=12)\n",
    "    reg.fit(X_train, y_train)\n",
    "\n",
    "    y_pred = reg.predict(X_test)\n",
    "\n",
    "    accuracy = accuracy_score(y_test, y_pred)\n",
    "    accuracies.append(accuracy)\n",
    "\n",
    "print(sum(accuracies) / len(accuracies))"
   ]
  },
  {
   "cell_type": "markdown",
   "metadata": {
    "id": "hrTv3idCIDWE"
   },
   "source": [
    "Por otra parte, si las clases están desbalanceadas, es necesario hacer un muestreo estratificado (es decir, la distribución de clases de la muestra debe ser fiel a la distribución de clases original). Para eso podemos usar `StratifiedKFold`:"
   ]
  },
  {
   "cell_type": "code",
   "execution_count": null,
   "metadata": {
    "colab": {
     "base_uri": "https://localhost:8080/"
    },
    "id": "IxhQkmAbIDWE",
    "outputId": "5d133b49-e539-48a8-d771-c451741d7faf"
   },
   "outputs": [],
   "source": [
    "from sklearn.model_selection import StratifiedKFold\n",
    "\n",
    "kf = StratifiedKFold(n_splits=3)\n",
    "\n",
    "accuracies = []\n",
    "\n",
    "# en este caso hay que entregarle tanto X como y a kf.split, ya que hará un split estratificado\n",
    "for train_index, test_index in kf.split(X, y):\n",
    "    X_train = X[train_index]\n",
    "    X_test = X[test_index]\n",
    "\n",
    "    y_train = y[train_index]\n",
    "    y_test = y[test_index]\n",
    "\n",
    "    clf = DecisionTreeClassifier(random_state=12)\n",
    "    clf.fit(X_train, y_train)\n",
    "\n",
    "    y_pred = clf.predict(X_test)\n",
    "\n",
    "    accuracy = accuracy_score(y_test, y_pred)\n",
    "    accuracies.append(accuracy)\n",
    "\n",
    "print(sum(accuracies) / len(accuracies))"
   ]
  },
  {
   "cell_type": "code",
   "execution_count": null,
   "metadata": {
    "colab": {
     "base_uri": "https://localhost:8080/"
    },
    "id": "1j2YrL9q1MUi",
    "outputId": "53a684a1-c52d-49e8-cbbf-277c5a6a00b9"
   },
   "outputs": [],
   "source": [
    "kf = StratifiedKFold(n_splits=3)\n",
    "\n",
    "accuracies = []\n",
    "\n",
    "# en este caso hay que entregarle tanto X como y a kf.split, ya que hará un split estratificado\n",
    "for train_index, test_index in kf.split(X, y):\n",
    "    X_train = X[train_index]\n",
    "    X_test = X[test_index]\n",
    "\n",
    "    y_train = y[train_index]\n",
    "    y_test = y[test_index]\n",
    "\n",
    "    reg = LogisticRegression(random_state=12)\n",
    "    reg.fit(X_train, y_train)\n",
    "\n",
    "    y_pred = reg.predict(X_test)\n",
    "\n",
    "    accuracy = accuracy_score(y_test, y_pred)\n",
    "    accuracies.append(accuracy)\n",
    "\n",
    "print(sum(accuracies) / len(accuracies))"
   ]
  },
  {
   "cell_type": "markdown",
   "metadata": {
    "id": "NjEhPw6TIDWE"
   },
   "source": [
    "# Medidas de rendimiento de un clasificador\n",
    "\n",
    "Volvamos a las preguntas que nos planteamos más arriba:\n",
    "\n",
    "1. ¿Tuvimos suerte? Es decir, si hubiésemos elegido otra partición train/test, ¿obtendríamos resultados diferentes?\n",
    "2. ¿Qué pasa si las clases están desbalanceadas? ¿Cómo afecta al accuracy si tenemos, por ejemplo, 99% de una clase y 1% de otra?\n",
    "\n",
    "La (1) la respondimos disminuyendo el factor del azar evaluando varias veces con distintas muestras de los datos usando cross-validation.\n",
    "\n",
    "Ahora, ¿qué pasa con el accuracy si tenemos clases desbalanceadas?\n",
    "\n",
    "## Clasificador _dummy_\n",
    "\n",
    "Un clasificador _dummy_ es un clasficador que no aprende nada de los datos, sino que sus reglas son siempre fijas.\n",
    "\n",
    "Por ejemplo, imagina un modelo (para dos clases) que cada vez que viene una nueva observación, lanza una moneda, y dice clase A con un 50% de probabilidad, o clase B con un 50% de probabilidad. Si en los datos de prueba las clases A y B están balanceadas, el clasificador tendrá un 50% de accuracy, _sin haber aprendido nada sobre los datos_.\n",
    "\n",
    "De esto se desprende la necesidad de un _baseline_. Es decir, sin hacer nada de esfuerzo, ¿cuál es el mínimo accuracy que puedo obtener? Piensa que si entrenara un clasificador muy sofisticado, y éste al final obtuviese un accuracy menor al baseline, entonces estamos haciendo algo muy mal. El baseline nos permite tener un punto de comparación (el baseline no tiene por qué ser algo muy simple tampoco)."
   ]
  },
  {
   "cell_type": "code",
   "execution_count": null,
   "metadata": {
    "colab": {
     "base_uri": "https://localhost:8080/"
    },
    "id": "SVA6VZWVIDWF",
    "outputId": "71d0cd31-9c28-475c-9671-dab25da43de7"
   },
   "outputs": [],
   "source": [
    "from sklearn.dummy import DummyClassifier\n",
    "\n",
    "kf = StratifiedKFold(n_splits=3)\n",
    "\n",
    "accuracies = []\n",
    "\n",
    "# vamos a repetir el proceso 100 veces\n",
    "\n",
    "for i in range(100):\n",
    "    for train_index, test_index in kf.split(X, y):\n",
    "        X_train = X[train_index]\n",
    "        X_test = X[test_index]\n",
    "\n",
    "        y_train = y[train_index]\n",
    "        y_test = y[test_index]\n",
    "\n",
    "        # creamos el dummy classifier con estrategia al azar uniforme\n",
    "        clf = DummyClassifier(strategy=\"uniform\")\n",
    "        clf.fit(X_train, y_train)\n",
    "\n",
    "        y_pred = clf.predict(X_test)\n",
    "\n",
    "        accuracy = accuracy_score(y_test, y_pred)\n",
    "        accuracies.append(accuracy)\n",
    "\n",
    "print(sum(accuracies) / len(accuracies))"
   ]
  },
  {
   "cell_type": "markdown",
   "metadata": {
    "id": "uu3bPYGyIDWF"
   },
   "source": [
    "Vemos que el accuracy promedio es de aproximadamente 33%, que es la proporción de elementos por cada clase."
   ]
  },
  {
   "cell_type": "markdown",
   "metadata": {
    "id": "2S_CaoHjIDWF"
   },
   "source": [
    "## Matriz de confusión, Precision y Recall\n",
    "\n",
    "La _matriz de confusión_ nos permite observar los errores del clasificador:"
   ]
  },
  {
   "cell_type": "code",
   "execution_count": null,
   "metadata": {
    "colab": {
     "base_uri": "https://localhost:8080/"
    },
    "id": "DmqmNuSrIDWF",
    "outputId": "ebed7f81-a111-45af-e232-b1951fce0f88"
   },
   "outputs": [],
   "source": [
    "from sklearn.metrics import confusion_matrix\n",
    "\n",
    "random_seed = 54\n",
    "\n",
    "X_train, X_test, y_train, y_test = train_test_split(X, y, test_size=0.33, random_state=random_seed)\n",
    "\n",
    "clf = DecisionTreeClassifier(random_state=random_seed)\n",
    "clf.fit(X_train, y_train)\n",
    "y_pred = clf.predict(X_test)\n",
    "\n",
    "confusion_matrix(y_test, y_pred)"
   ]
  },
  {
   "cell_type": "code",
   "execution_count": null,
   "metadata": {
    "colab": {
     "base_uri": "https://localhost:8080/"
    },
    "id": "1dCse9MmMS2M",
    "outputId": "6d6d7a03-6627-492b-e43a-a58a3fdd7d2b"
   },
   "outputs": [],
   "source": [
    "reg = LogisticRegression(random_state=random_seed)\n",
    "reg.fit(X_train, y_train)\n",
    "y_reg_pred = clf.predict(X_test)\n",
    "\n",
    "confusion_matrix(y_test, y_reg_pred)"
   ]
  },
  {
   "cell_type": "markdown",
   "metadata": {
    "id": "-CB3KVVUIDWF"
   },
   "source": [
    "La matriz se interpeta de la siguiente forma:\n",
    "\n",
    "| iris-setosa  | iris-versicolor  | iris-virginica  | ← clasificado como / clase real ↓ |\n",
    "|:----:|:----:|:----:|--------------------:|\n",
    "| 12 | 0  | 0  |              **iris-setosa** |\n",
    "| 0  | 17  | 1  |              **iris-versicolor** |\n",
    "| 0  | 2 | 18 |              **iris-virginica** |"
   ]
  },
  {
   "cell_type": "markdown",
   "metadata": {
    "id": "Bp1xIkf5IDWF"
   },
   "source": [
    "Por cada clase, podemos determinar el tipo de error que el modelo hace.\n",
    "\n",
    "- **Verdaderos Positivos (TP)**: el dato X es de la clase C, y el modelo clasifica X como C.\n",
    "- **Verdaderos Negativos (TN)**: el dato X no es de la clase C, y el modelo clasifica X como algo que no es C.\n",
    "- **Falsos Positivos (FP)**: el dato X no es de la clase C, pero el modelo clasifica a X como C.\n",
    "- **Falsos Negativos (FN)**: el dato X es de la clase C, pero el modelo clasifica a X como algo que no es C.\n",
    "\n",
    "A partir de estas medidas, definimos dos medidas nuevas para una clase, _precision_ y _recall_:\n",
    "\n",
    "$$Precision = \\frac{TP}{TP + FP}$$\n",
    "\n",
    "$$Recall = \\frac{TP}{TP+FN}$$\n",
    "\n",
    "Nota que estas medidas son para una clase en particular. La medida para todo el dataset puede ser el promedio de la medida para cada clase.\n",
    "\n",
    "Ver más en https://en.wikipedia.org/wiki/Precision_and_recall"
   ]
  },
  {
   "cell_type": "code",
   "execution_count": null,
   "metadata": {
    "colab": {
     "base_uri": "https://localhost:8080/"
    },
    "id": "LWWfh1GXIDWG",
    "outputId": "6b6766d9-a2de-4b6b-ac76-c3f58f2030f4"
   },
   "outputs": [],
   "source": [
    "from sklearn.metrics import classification_report\n",
    "\n",
    "random_seed = 54\n",
    "\n",
    "X_train, X_test, y_train, y_test = train_test_split(X, y, test_size=0.33, random_state=random_seed)\n",
    "\n",
    "clf = DecisionTreeClassifier(random_state=random_seed)\n",
    "clf.fit(X_train, y_train)\n",
    "y_pred = clf.predict(X_test)\n",
    "\n",
    "print(classification_report(y_test, y_pred))"
   ]
  },
  {
   "cell_type": "code",
   "execution_count": null,
   "metadata": {
    "colab": {
     "base_uri": "https://localhost:8080/"
    },
    "id": "h3pcc7FjM0yX",
    "outputId": "e1985fb5-f1b7-480b-cac0-c1fb6a3b9d6c"
   },
   "outputs": [],
   "source": [
    "reg = LogisticRegression(random_state=random_seed)\n",
    "reg.fit(X_train, y_train)\n",
    "y_reg_pred = clf.predict(X_test)\n",
    "\n",
    "print(classification_report(y_test, y_reg_pred))"
   ]
  },
  {
   "cell_type": "code",
   "execution_count": null,
   "metadata": {
    "id": "EvMmp0YoOdY7"
   },
   "outputs": [],
   "source": [
    "#Dibujo de matriz de confusión\n",
    "import itertools\n",
    "import matplotlib.pyplot as plt\n",
    "import numpy as np\n",
    "def plot_confusion_matrix(cm, classes,\n",
    "                          normalize=False,\n",
    "                          title='Confusion matrix',\n",
    "                          cmap=plt.cm.Blues):\n",
    "    if normalize:\n",
    "        cm = cm.astype('float') / cm.sum(axis=1)[:, np.newaxis]\n",
    "        print('Matriz de confusión Normalizada')\n",
    "    else:\n",
    "        print('Matriz de confusión sin normalizar')\n",
    "\n",
    "    print(cm)\n",
    "\n",
    "    plt.imshow(cm, interpolation='nearest', cmap=cmap)\n",
    "    plt.title(title)\n",
    "    plt.colorbar()\n",
    "    tick_marks = np.arange(len(classes))\n",
    "    plt.xticks(tick_marks, classes, rotation=45)\n",
    "    plt.yticks(tick_marks, classes)\n",
    "\n",
    "    fmt = '.2f' if normalize else 'd'\n",
    "    thresh = cm.max() / 2.\n",
    "    for i, j in itertools.product(range(cm.shape[0]), range(cm.shape[1])):\n",
    "        plt.text(j, i, format(cm[i, j], fmt),\n",
    "                 horizontalalignment=\"center\",\n",
    "                 color=\"white\" if cm[i, j] > thresh else \"black\")\n",
    "\n",
    "    plt.tight_layout()\n",
    "    plt.ylabel('True label')\n",
    "    plt.xlabel('Predicted label')"
   ]
  },
  {
   "cell_type": "code",
   "execution_count": null,
   "metadata": {
    "id": "8xJ2hnXhTxz9"
   },
   "outputs": [],
   "source": [
    "random_seed = 60\n",
    "\n",
    "X_train, X_test, y_train, y_test = train_test_split(X, y, test_size=0.33, random_state=random_seed)"
   ]
  },
  {
   "cell_type": "code",
   "execution_count": null,
   "metadata": {
    "id": "EKzcy4vZOizF"
   },
   "outputs": [],
   "source": [
    "#Cargamos componente\n",
    "from sklearn.model_selection import GridSearchCV, StratifiedKFold\n",
    "# seteamos el valor de Cross-validation\n",
    "skf = StratifiedKFold(n_splits=8)\n",
    "# Se define scoring por el cual obtendremos el mejor modelo, puede ser \"Accuracy\", \"recall\", \"precision\". Esto es para la evaluación pero le agregamos al entrenamiento\n",
    "scoring_def = 'accuracy'"
   ]
  },
  {
   "cell_type": "code",
   "execution_count": null,
   "metadata": {
    "colab": {
     "base_uri": "https://localhost:8080/"
    },
    "id": "sLc8-kARPL7L",
    "outputId": "5e6e11c2-781f-462d-df35-f3a5fef3cd67"
   },
   "outputs": [],
   "source": [
    "# Buscamos el mejor modelo de acuerdo a todos los parámetros generados\n",
    "params1 = {\"max_depth\": [4, 6, 8, 10, 12],\n",
    "          \"criterion\" : ['gini','entropy'],\n",
    "          \"class_weight\": ['balanced_subsample','balanced'],\n",
    "          \"min_samples_split\": [2, 4, 6]}\n",
    "model1 = DecisionTreeClassifier()\n",
    "grid1 = GridSearchCV(estimator=model1, param_grid=params1,cv=skf, scoring=scoring_def)\n",
    "grid1.fit(X_train, y_train)\n",
    "\n",
    "# Se realiza la predicción del set de test con el mejor modelo\n",
    "Yhat1 = grid1.best_estimator_.predict(X_test)"
   ]
  },
  {
   "cell_type": "code",
   "execution_count": null,
   "metadata": {
    "colab": {
     "base_uri": "https://localhost:8080/"
    },
    "id": "adkEDdKhbBJM",
    "outputId": "2f213540-9359-4141-fef0-900834410194"
   },
   "outputs": [],
   "source": [
    "print(grid1.best_score_)\n",
    "print(grid1.best_params_)\n",
    "print(grid1.best_estimator_)"
   ]
  },
  {
   "cell_type": "code",
   "execution_count": null,
   "metadata": {
    "colab": {
     "base_uri": "https://localhost:8080/",
     "height": 575
    },
    "id": "Fyk_vOMpPcMb",
    "outputId": "9852b701-38fa-4e21-f204-e620057cb404"
   },
   "outputs": [],
   "source": [
    "LABELS = [\"setosa\",\"Virginica\",'Versicolor']\n",
    "#print(classification_report(X_test, Yhat1))\n",
    "cnf_matrix = confusion_matrix(y_test, Yhat1)\n",
    "plt.figure()\n",
    "plot_confusion_matrix(cnf_matrix, classes=LABELS,\n",
    "                      title='Matriz de confusión')\n",
    "plt.show()"
   ]
  },
  {
   "cell_type": "code",
   "execution_count": null,
   "metadata": {
    "colab": {
     "base_uri": "https://localhost:8080/"
    },
    "id": "D3tfOZ_jZ9u5",
    "outputId": "d17715fa-5862-42bc-bbd7-fb994dc7a41f"
   },
   "outputs": [],
   "source": [
    "# Buscamos el mejor modelo de acuerdo a todos los parámetros generados\n",
    "params3 = {\"max_iter\": [100],\n",
    "          \"penalty\": ['l1', 'l2'],\n",
    "          \"class_weight\": ['None','balanced'],\n",
    "          \"solver\" : ['newton-cg','lbfgs','liblinear','sag','saga'],\n",
    "          \"C\": [1, 2, 3]}\n",
    "\n",
    "model3 = LogisticRegression()\n",
    "grid3 = GridSearchCV(estimator=model3, param_grid=params3,cv=skf, scoring=scoring_def)\n",
    "grid3.fit(X_train, y_train)\n",
    "\n",
    "# Se realiza la predicción del set de test con el mejor modelo\n",
    "Yhat3 = grid3.best_estimator_.predict(X_test)"
   ]
  },
  {
   "cell_type": "code",
   "execution_count": null,
   "metadata": {
    "colab": {
     "base_uri": "https://localhost:8080/"
    },
    "id": "f89W3nCIa8kn",
    "outputId": "dc61d323-34bb-4475-df6f-ab2d06b4ebc3"
   },
   "outputs": [],
   "source": [
    "print(grid3.best_score_)\n",
    "print(grid3.best_params_)\n",
    "print(grid3.best_estimator_)"
   ]
  },
  {
   "cell_type": "code",
   "execution_count": null,
   "metadata": {
    "colab": {
     "base_uri": "https://localhost:8080/",
     "height": 575
    },
    "id": "8_WdYb7aaYdY",
    "outputId": "41ee1fde-ee84-475e-c287-00a071a22107"
   },
   "outputs": [],
   "source": [
    "LABELS = [\"setosa\",\"Virginica\",'Versicolor']\n",
    "#print(classification_report(X_test, Yhat1))\n",
    "cnf_matrix = confusion_matrix(y_test, Yhat3)\n",
    "plt.figure()\n",
    "plot_confusion_matrix(cnf_matrix, classes=LABELS,\n",
    "                      title='Matriz de confusión')\n",
    "plt.show()"
   ]
  },
  {
   "cell_type": "markdown",
   "metadata": {
    "id": "tOUiHukfIDWT"
   },
   "source": [
    "Cuando las clases están desbalanceadas, conviene mucho mirar el Precision y el Recall por cada clase."
   ]
  },
  {
   "cell_type": "markdown",
   "metadata": {
    "id": "z8zs32KqIDWT"
   },
   "source": [
    "# Overfitting\n",
    "\n",
    "Algunas formas de evitar el overfitting:\n",
    "\n",
    "- Evitar que nuestro modelo sea muy específico a los datos de entrenamiento (por ejemplo, evitando que el árbol de decisión tenga muchas ramas). Es decir, preferir modelos simples a modelos complejos.\n",
    "- Usar cross-validation para tener una mejor garantía del rendimiento con datos nuevos (aunque esto no es posible si el entrenamiento toma mucho tiempo).\n",
    "- No \"contaminar\" los datos de entrenamiento con los datos de prueba, o viceversa.\n",
    "- Normalizar los datos o tratar de disminuir el ruido de éstos. Tener cuidado con los outliers.\n",
    "- Tener más datos :-)"
   ]
  },
  {
   "cell_type": "code",
   "execution_count": null,
   "metadata": {
    "colab": {
     "base_uri": "https://localhost:8080/",
     "height": 484
    },
    "id": "1ve35AyFIDWT",
    "outputId": "246d2b5a-4bd9-4aa4-f7c7-6efe74391091",
    "scrolled": true
   },
   "outputs": [],
   "source": [
    "# ejemplo obtenido de http://scikit-learn.org/stable/auto_examples/model_selection/plot_underfitting_overfitting.html\n",
    "\n",
    "from sklearn.pipeline import Pipeline\n",
    "from sklearn.preprocessing import PolynomialFeatures\n",
    "from sklearn.linear_model import LinearRegression\n",
    "from sklearn.model_selection import cross_val_score\n",
    "\n",
    "np.random.seed(0)\n",
    "\n",
    "def true_fun(X):\n",
    "    return np.cos(1.5 * np.pi * X)\n",
    "\n",
    "n_samples = 30\n",
    "degrees = [1, 4, 15]\n",
    "\n",
    "X = np.sort(np.random.rand(n_samples))\n",
    "y = true_fun(X) + np.random.randn(n_samples) * 0.1\n",
    "\n",
    "\n",
    "plt.figure(figsize=(14, 5))\n",
    "for i in range(len(degrees)):\n",
    "    ax = plt.subplot(1, len(degrees), i + 1)\n",
    "    plt.setp(ax, xticks=(), yticks=())\n",
    "\n",
    "    polynomial_features = PolynomialFeatures(degree=degrees[i],\n",
    "                                             include_bias=False)\n",
    "    linear_regression = LinearRegression()\n",
    "    pipeline = Pipeline([(\"polynomial_features\", polynomial_features),\n",
    "                         (\"linear_regression\", linear_regression)])\n",
    "    pipeline.fit(X[:, np.newaxis], y)\n",
    "\n",
    "    # Evaluate the models using crossvalidation\n",
    "    scores = cross_val_score(pipeline, X[:, np.newaxis], y,\n",
    "                             scoring=\"neg_mean_squared_error\", cv=10)\n",
    "\n",
    "    X_test = np.linspace(0, 1, 100)\n",
    "    plt.plot(X_test, pipeline.predict(X_test[:, np.newaxis]), label=\"Model\")\n",
    "    plt.plot(X_test, true_fun(X_test), label=\"True function\")\n",
    "    plt.scatter(X, y, edgecolor='b', s=20, label=\"Samples\")\n",
    "    plt.xlabel(\"x\")\n",
    "    plt.ylabel(\"y\")\n",
    "    plt.xlim((0, 1))\n",
    "    plt.ylim((-2, 2))\n",
    "    plt.legend(loc=\"best\")\n",
    "    plt.title(\"Degree {}\\nMSE = {:.2e}(+/- {:.2e})\".format(\n",
    "        degrees[i], -scores.mean(), scores.std()))\n",
    "plt.show()\n"
   ]
  },
  {
   "cell_type": "markdown",
   "metadata": {
    "id": "6bnhSXd4IDWU"
   },
   "source": [
    "# En conclusión\n",
    "\n",
    "El flujo usual a la hora de entrenar un clasificador es el siguiente:\n",
    "\n",
    "1. Tener datos. Verificar la fuente de los datos, la existencia de sesgos (sesgo de selección, sesgo del superviviente, sesgos sociodemográficos, etc.).\n",
    "2. Separar datos en train y test set.\n",
    "3. Realizar exploración y limpieza de datos en ambos sets, de manera independiente.\n",
    "4. Elegir clasificadores apropiados para el dominio del problema (próxima clase de cátedra)\n",
    "5. Determinar métricas de entrenamiento usando cross-validation, si es posible (más de esto en el lab de mañana).\n",
    "6. Evaluar en el test set.\n",
    "7. Usar todos los datos para entrenar el modelo que irá \"a producción\""
   ]
  },
  {
   "cell_type": "markdown",
   "metadata": {
    "id": "byFq2Hz9IDWU"
   },
   "source": [
    "# Referencias\n",
    "\n",
    "1. Documentación de scikit-learn. http://scikit-learn.org/stable/index.html\n",
    "2. Precision y Recall. https://en.wikipedia.org/wiki/Precision_and_recall\n",
    "3. Machine Learning 101 (Google). https://docs.google.com/presentation/d/1kSuQyW5DTnkVaZEjGYCkfOxvzCqGEFzWBy4e9Uedd9k/preview?imm_mid=0f9b7e&cmp=em-data-na-na-newsltr_20171213#slide=id.g168a3288f7_0_58\n",
    "4. WEKA (un programa visual con clasificadores y otras herramientas para ML). https://www.cs.waikato.ac.nz/ml/weka/\n",
    "5. Curso de Data Mining con WEKA. https://www.cs.waikato.ac.nz/ml/weka/mooc/dataminingwithweka/"
   ]
  }
 ],
 "metadata": {
  "colab": {
   "provenance": []
  },
  "kernelspec": {
   "display_name": "Python 3",
   "language": "python",
   "name": "python3"
  },
  "language_info": {
   "codemirror_mode": {
    "name": "ipython",
    "version": 3
   },
   "file_extension": ".py",
   "mimetype": "text/x-python",
   "name": "python",
   "nbconvert_exporter": "python",
   "pygments_lexer": "ipython3",
   "version": "3.7.6"
  }
 },
 "nbformat": 4,
 "nbformat_minor": 1
}
